{
  "nbformat": 4,
  "nbformat_minor": 0,
  "metadata": {
    "colab": {
      "provenance": [],
      "authorship_tag": "ABX9TyOpNvzifAV0chGt8HnCKyFz",
      "include_colab_link": true
    },
    "kernelspec": {
      "name": "python3",
      "display_name": "Python 3"
    },
    "language_info": {
      "name": "python"
    }
  },
  "cells": [
    {
      "cell_type": "markdown",
      "metadata": {
        "id": "view-in-github",
        "colab_type": "text"
      },
      "source": [
        "<a href=\"https://colab.research.google.com/github/Kishordhavle/test-practice/blob/main/Untitled0.ipynb\" target=\"_parent\"><img src=\"https://colab.research.google.com/assets/colab-badge.svg\" alt=\"Open In Colab\"/></a>"
      ]
    },
    {
      "cell_type": "code",
      "execution_count": null,
      "metadata": {
        "colab": {
          "base_uri": "https://localhost:8080/"
        },
        "id": "QCTrUPHeMrZ1",
        "outputId": "389a467c-30b1-467f-b8d1-0538dbfbab53"
      },
      "outputs": [
        {
          "output_type": "stream",
          "name": "stdout",
          "text": [
            "todays's work\n"
          ]
        }
      ],
      "source": [
        "print(\"todays's work\")"
      ]
    },
    {
      "cell_type": "code",
      "source": [
        "print(\"i am beginner, 'new'\")"
      ],
      "metadata": {
        "colab": {
          "base_uri": "https://localhost:8080/"
        },
        "id": "8LIG3JwlPTnZ",
        "outputId": "fadebcf2-53ad-41f3-8edc-1da4c8c4cc64"
      },
      "execution_count": null,
      "outputs": [
        {
          "output_type": "stream",
          "name": "stdout",
          "text": [
            "i am beginner, 'new'\n"
          ]
        }
      ]
    },
    {
      "cell_type": "code",
      "source": [
        "print('i have money \" more\"')"
      ],
      "metadata": {
        "colab": {
          "base_uri": "https://localhost:8080/"
        },
        "id": "MLFWoedaPlMp",
        "outputId": "987578ed-1338-4135-eb7b-7e70208ec099"
      },
      "execution_count": null,
      "outputs": [
        {
          "output_type": "stream",
          "name": "stdout",
          "text": [
            "i have money \" more\"\n"
          ]
        }
      ]
    },
    {
      "cell_type": "code",
      "source": [
        "'kishor' \"3472\""
      ],
      "metadata": {
        "colab": {
          "base_uri": "https://localhost:8080/",
          "height": 36
        },
        "id": "pjfrivmrPxf3",
        "outputId": "eb301626-5c76-474f-8456-bb36834324fb"
      },
      "execution_count": null,
      "outputs": [
        {
          "output_type": "execute_result",
          "data": {
            "text/plain": [
              "'kishor3472'"
            ],
            "application/vnd.google.colaboratory.intrinsic+json": {
              "type": "string"
            }
          },
          "metadata": {},
          "execution_count": 4
        }
      ]
    },
    {
      "cell_type": "code",
      "source": [
        "print(1,2,3,4,5,6,7,8,9,10)"
      ],
      "metadata": {
        "colab": {
          "base_uri": "https://localhost:8080/"
        },
        "id": "jk1Y2S4fP_1J",
        "outputId": "21051e44-5d0d-45b3-b525-b0e1d8eb2c80"
      },
      "execution_count": null,
      "outputs": [
        {
          "output_type": "stream",
          "name": "stdout",
          "text": [
            "1 2 3 4 5 6 7 8 9 10\n"
          ]
        }
      ]
    },
    {
      "cell_type": "code",
      "source": [
        "print(1,2,3,4,5,6,7,8,9,10,sep='-')"
      ],
      "metadata": {
        "colab": {
          "base_uri": "https://localhost:8080/"
        },
        "id": "XzhO3mdKQgxr",
        "outputId": "601fd4eb-6b3c-4952-e480-37186387926a"
      },
      "execution_count": null,
      "outputs": [
        {
          "output_type": "stream",
          "name": "stdout",
          "text": [
            "1-2-3-4-5-6-7-8-9-10\n"
          ]
        }
      ]
    },
    {
      "cell_type": "code",
      "source": [
        "print('hello')\n",
        "print('world')"
      ],
      "metadata": {
        "colab": {
          "base_uri": "https://localhost:8080/"
        },
        "id": "US2JwJU1RAVD",
        "outputId": "edee8037-c12b-4c45-84bf-5ed168d553f5"
      },
      "execution_count": null,
      "outputs": [
        {
          "output_type": "stream",
          "name": "stdout",
          "text": [
            "hello\n",
            "world\n"
          ]
        }
      ]
    },
    {
      "cell_type": "code",
      "source": [
        "s='123'\n",
        "len(s)"
      ],
      "metadata": {
        "colab": {
          "base_uri": "https://localhost:8080/"
        },
        "id": "Nd8L34xrSwkB",
        "outputId": "9a936594-4b0a-4bf4-87fc-2037a19523ba"
      },
      "execution_count": null,
      "outputs": [
        {
          "output_type": "execute_result",
          "data": {
            "text/plain": [
              "3"
            ]
          },
          "metadata": {},
          "execution_count": 16
        }
      ]
    },
    {
      "cell_type": "code",
      "source": [
        "dict={'a':1,'b':2}\n",
        "len(dict)"
      ],
      "metadata": {
        "colab": {
          "base_uri": "https://localhost:8080/"
        },
        "id": "maQmNzBLS6Jf",
        "outputId": "ac8b7d63-1c99-4cb5-fd14-34e0723398f2"
      },
      "execution_count": null,
      "outputs": [
        {
          "output_type": "execute_result",
          "data": {
            "text/plain": [
              "2"
            ]
          },
          "metadata": {},
          "execution_count": 17
        }
      ]
    },
    {
      "cell_type": "code",
      "source": [
        "flaot = 2.1\n",
        "len(flaot)"
      ],
      "metadata": {
        "colab": {
          "base_uri": "https://localhost:8080/",
          "height": 165
        },
        "id": "_mOY-28OTFBe",
        "outputId": "770e04b8-ef3a-46c5-d2e0-60d6d440daff"
      },
      "execution_count": null,
      "outputs": [
        {
          "output_type": "error",
          "ename": "TypeError",
          "evalue": "object of type 'float' has no len()",
          "traceback": [
            "\u001b[0;31m---------------------------------------------------------------------------\u001b[0m",
            "\u001b[0;31mTypeError\u001b[0m                                 Traceback (most recent call last)",
            "\u001b[0;32m<ipython-input-18-911b886e04ea>\u001b[0m in \u001b[0;36m<cell line: 2>\u001b[0;34m()\u001b[0m\n\u001b[1;32m      1\u001b[0m \u001b[0mflaot\u001b[0m \u001b[0;34m=\u001b[0m \u001b[0;36m2.1\u001b[0m\u001b[0;34m\u001b[0m\u001b[0;34m\u001b[0m\u001b[0m\n\u001b[0;32m----> 2\u001b[0;31m \u001b[0mlen\u001b[0m\u001b[0;34m(\u001b[0m\u001b[0mflaot\u001b[0m\u001b[0;34m)\u001b[0m\u001b[0;34m\u001b[0m\u001b[0;34m\u001b[0m\u001b[0m\n\u001b[0m",
            "\u001b[0;31mTypeError\u001b[0m: object of type 'float' has no len()"
          ]
        }
      ]
    },
    {
      "cell_type": "code",
      "source": [
        "name = input (\"enter your name\")\n",
        "age = input (\"enter your age\")\n",
        "\n",
        "print('ur name is -', name)\n",
        "print('ur age is -', age)"
      ],
      "metadata": {
        "colab": {
          "base_uri": "https://localhost:8080/"
        },
        "id": "fYjmT8HzTL6V",
        "outputId": "7f3d2f59-b95d-4576-db78-31e0fb89ca4c"
      },
      "execution_count": null,
      "outputs": [
        {
          "output_type": "stream",
          "name": "stdout",
          "text": [
            "enter your namekd\n",
            "enter your age67\n",
            "ur name is - kd\n",
            "ur age is - 67\n"
          ]
        }
      ]
    },
    {
      "cell_type": "code",
      "source": [],
      "metadata": {
        "id": "vjhRDb643rab"
      },
      "execution_count": null,
      "outputs": []
    },
    {
      "cell_type": "code",
      "source": [
        "print (\"....D mart shopping\")\n",
        "\n",
        "print (\"....\")\n",
        "\n",
        "mango = 50\n",
        "banana = 20\n",
        "apple = 100\n",
        "dal = 50\n",
        "\n",
        "name = input (\"enter name\")\n",
        "mob = input (\"please mobile number\")\n",
        "\n",
        "print (\"Your name is - \", name)\n",
        "print (\"My contact is - \", mob)\n",
        "\n",
        "print (\"hi\", name, \"welcome to D mart\")\n",
        "\n",
        "total = mango + banana + apple\n",
        "total += dal*4\n",
        "print (\"total amount is - \", total)\n",
        "\n"
      ],
      "metadata": {
        "colab": {
          "base_uri": "https://localhost:8080/"
        },
        "id": "glfPBYaj39Ri",
        "outputId": "8930518d-4834-4b71-c685-324a1b24ab94"
      },
      "execution_count": null,
      "outputs": [
        {
          "output_type": "stream",
          "name": "stdout",
          "text": [
            "....D mart shopping\n",
            "....\n",
            "enter nameh\n",
            "please mobile number5\n",
            "Your name is -  h\n",
            "My contact is -  5\n",
            "hi h welcome to D mart\n",
            "total amount is -  370\n"
          ]
        }
      ]
    },
    {
      "cell_type": "code",
      "source": [
        "\n",
        "print (\"........KD automobiles, Pune.........\\n\\n\")\n",
        "\n",
        "print (\"welcome here , how may I assist you..!!\\n\")\n",
        "\n",
        "name = input(\"please share your name - \")\n",
        "bike_comp = input(\"please share your bike brand - \")\n",
        "bike_model = input(\"please share your bike number \")\n",
        "mobile = input(\"please share your mobile number\")\n",
        "\n",
        "print (\"your name is - \", name)\n",
        "print (\"your bike brand is - \", bike_comp)\n",
        "print (\"your bike number is - \", bike_model)\n",
        "print (\"your mobile number is - \", mobile)\n",
        "\n",
        "print (\".....Menu.....\\n\",\"engine_work = 5000 \\n\",\"oil = 600\\n\",\"washing = 200\\n\",\"insurance = 300\\n\",\"fees = 1000\\n\")\n",
        "\n",
        "engine_work = 5000\n",
        "oil = 600\n",
        "Washing = 200\n",
        "insurance = 300\n",
        "tax = 1000\n",
        "\n",
        "\n",
        "print (\"your name is - \", name)\n",
        "print (\"Hi\", name, \"welcome to KD automobiles\",\"your bike is\",bike_comp, \"with model\", bike_model, \"and your mobile number is\",mobile)\n",
        "\n",
        "\n",
        "total = engine_work + oil + Washing + insurance + tax\n",
        "print (\"total amount is - \", total)\n",
        "\n"
      ],
      "metadata": {
        "colab": {
          "base_uri": "https://localhost:8080/"
        },
        "id": "rwjj2S-3HbOY",
        "outputId": "f407a71e-ad5c-4611-b933-09fc25b7b54e"
      },
      "execution_count": null,
      "outputs": [
        {
          "output_type": "stream",
          "name": "stdout",
          "text": [
            "........KD automobiles, Pune.........\n",
            "\n",
            "\n",
            "welcome here , how may I assist you..!!\n",
            "\n",
            "please share your name - Kishor Dhavle\n",
            "please share your bike brand - Hero\n",
            "please share your bike number MH13 BW 1311\n",
            "please share your mobile number9028703472\n",
            "your name is -  Kishor Dhavle\n",
            "your bike brand is -  Hero\n",
            "your bike number is -  MH13 BW 1311\n",
            "your mobile number is -  9028703472\n",
            ".....Menu.....\n",
            " engine_work = 5000 \n",
            " oil = 600\n",
            " washing = 200\n",
            " insurance = 300\n",
            " fees = 1000\n",
            "\n",
            "your name is -  Kishor Dhavle\n",
            "Hi Kishor Dhavle welcome to KD automobiles your bike is Hero with model MH13 BW 1311 and your mobile number is 9028703472\n",
            "total amount is -  7100\n"
          ]
        }
      ]
    },
    {
      "cell_type": "code",
      "source": [
        "print (\".....Travel booking shop....\")\n",
        "\n",
        "name = input(\"\\n please share your name - \")\n",
        "mobile = input(\"\\n please share your mobile number\")\n",
        "\n",
        "print (\"\\n Hello your name is - \", name)\n",
        "print (\"\\n with mobile number is - \", mobile)\n",
        "\n",
        "#print (\"\\n Types of vehicle -\\n\\n 1st class\\n 2nd class \\n AC \\n and non AC\")\n",
        "\n",
        "#Print(\"Menu \\n pune to mumbai = 600 \\n pune to banglore = 5000 \\n pune to solapur = 800\")\n",
        "\n",
        "price = float(input(\"\\n please confirm your no. of sheet - \"))\n",
        "\n",
        "print (\"\\n your total price is - \", price)\n",
        "total = float (price*600, price*5000, price*800)\n",
        "print (\"\\n total amount is - \", total)"
      ],
      "metadata": {
        "colab": {
          "base_uri": "https://localhost:8080/",
          "height": 421
        },
        "id": "-PV9DZ8xc5bC",
        "outputId": "623755b3-c283-4a27-b624-afbaca7619f0"
      },
      "execution_count": null,
      "outputs": [
        {
          "name": "stdout",
          "output_type": "stream",
          "text": [
            ".....Travel booking shop....\n",
            "\n",
            " please share your name - d\n",
            "\n",
            " please share your mobile numberd\n",
            "\n",
            " Hello your name is -  d\n",
            "\n",
            " with mobile number is -  d\n",
            "\n",
            " please confirm your no. of sheet - ac\n"
          ]
        },
        {
          "output_type": "error",
          "ename": "ValueError",
          "evalue": "could not convert string to float: 'ac'",
          "traceback": [
            "\u001b[0;31m---------------------------------------------------------------------------\u001b[0m",
            "\u001b[0;31mValueError\u001b[0m                                Traceback (most recent call last)",
            "\u001b[0;32m<ipython-input-3-bd90b3cf05e8>\u001b[0m in \u001b[0;36m<cell line: 13>\u001b[0;34m()\u001b[0m\n\u001b[1;32m     11\u001b[0m \u001b[0;31m#Print(\"Menu \\n pune to mumbai = 600 \\n pune to banglore = 5000 \\n pune to solapur = 800\")\u001b[0m\u001b[0;34m\u001b[0m\u001b[0;34m\u001b[0m\u001b[0m\n\u001b[1;32m     12\u001b[0m \u001b[0;34m\u001b[0m\u001b[0m\n\u001b[0;32m---> 13\u001b[0;31m \u001b[0mprice\u001b[0m \u001b[0;34m=\u001b[0m \u001b[0mfloat\u001b[0m\u001b[0;34m(\u001b[0m\u001b[0minput\u001b[0m\u001b[0;34m(\u001b[0m\u001b[0;34m\"\\n please confirm your no. of sheet - \"\u001b[0m\u001b[0;34m)\u001b[0m\u001b[0;34m)\u001b[0m\u001b[0;34m\u001b[0m\u001b[0;34m\u001b[0m\u001b[0m\n\u001b[0m\u001b[1;32m     14\u001b[0m \u001b[0;34m\u001b[0m\u001b[0m\n\u001b[1;32m     15\u001b[0m \u001b[0mprint\u001b[0m \u001b[0;34m(\u001b[0m\u001b[0;34m\"\\n your total price is - \"\u001b[0m\u001b[0;34m,\u001b[0m \u001b[0mprice\u001b[0m\u001b[0;34m)\u001b[0m\u001b[0;34m\u001b[0m\u001b[0;34m\u001b[0m\u001b[0m\n",
            "\u001b[0;31mValueError\u001b[0m: could not convert string to float: 'ac'"
          ]
        }
      ]
    },
    {
      "cell_type": "code",
      "source": [
        "t = (12,34,1,5,45,55)\n",
        "\n",
        "sorted(t)"
      ],
      "metadata": {
        "colab": {
          "base_uri": "https://localhost:8080/"
        },
        "id": "3lKY_sFBVou4",
        "outputId": "9fdfcd83-ed63-43ac-b787-b2e3c1395647"
      },
      "execution_count": null,
      "outputs": [
        {
          "output_type": "execute_result",
          "data": {
            "text/plain": [
              "[1, 5, 12, 34, 45, 55]"
            ]
          },
          "metadata": {},
          "execution_count": 1
        }
      ]
    },
    {
      "cell_type": "code",
      "source": [
        "sorted(t, reverse = True)"
      ],
      "metadata": {
        "colab": {
          "base_uri": "https://localhost:8080/"
        },
        "id": "irNOpGUlV4SP",
        "outputId": "36993211-9bc5-4c6b-cfbe-816ac5372fd3"
      },
      "execution_count": null,
      "outputs": [
        {
          "output_type": "execute_result",
          "data": {
            "text/plain": [
              "[55, 45, 34, 12, 5, 1]"
            ]
          },
          "metadata": {},
          "execution_count": 2
        }
      ]
    },
    {
      "cell_type": "code",
      "source": [],
      "metadata": {
        "id": "IREKn3WUbigV"
      },
      "execution_count": null,
      "outputs": []
    }
  ]
}